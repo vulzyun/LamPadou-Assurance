{
  "cells": [
    {
      "cell_type": "markdown",
      "metadata": {},
      "source": [
        "## Étape 3  : Importation des données"
      ]
    },
    {
      "cell_type": "code",
      "execution_count": null,
      "id": "efca397a",
      "metadata": {},
      "outputs": [],
      "source": [
        "import pandas as pimport pandas as pd\n",
        "import numpy as npimport pandas as pd\n",
        "import numpy as np\n"
      ]
    },
    {
      "cell_type": "markdown",
      "id": "e6c73c2e",
      "metadata": {},
      "source": []
    }
  ],
  "metadata": {
    "kernelspec": {
      "display_name": "base",
      "language": "python",
      "name": "python3"
    },
    "language_info": {
      "name": "python",
      "version": "3.11.5"
    }
  },
  "nbformat": 4,
  "nbformat_minor": 5
}
